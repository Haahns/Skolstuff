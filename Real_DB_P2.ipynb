{
 "cells": [
  {
   "cell_type": "code",
   "execution_count": 1,
   "id": "92a8e87a-33ae-4371-b246-70c31efa48b7",
   "metadata": {},
   "outputs": [],
   "source": [
    "### imports\n",
    "import requests\n",
    "from bs4 import BeautifulSoup as bs\n",
    "import pandas as pd\n",
    "import base64\n",
    "from IPython.display import HTML\n",
    "import numpy as np\n",
    "import re"
   ]
  },
  {
   "cell_type": "code",
   "execution_count": 2,
   "id": "fe455474-aee3-42f6-9906-f9bdcac7c8bc",
   "metadata": {},
   "outputs": [],
   "source": [
    "#EA SPORTS™ FIFA 23\n",
    "#req = requests.get(\"https://store.steampowered.com/app/227300/Euro_Truck_Simulator_2/\")\n",
    "\n",
    "req = requests.get(\"https://store.steampowered.com/app/1811260/EA_SPORTS_FIFA_23/\")\n",
    "page = req.text\n",
    "soup = bs(page, 'html.parser')"
   ]
  },
  {
   "cell_type": "code",
   "execution_count": 3,
   "id": "4be960c6-4049-4779-8ba2-9d783ac04e8b",
   "metadata": {},
   "outputs": [
    {
     "data": {
      "text/plain": [
       "'EA SPORTS™ FIFA 23'"
      ]
     },
     "execution_count": 3,
     "metadata": {},
     "output_type": "execute_result"
    }
   ],
   "source": [
    "spelnamn = []\n",
    "for row in soup.findAll(class_ = \"apphub_AppName\"):\n",
    "    spelnamn.append(row.text)\n",
    "spelnamn[0]"
   ]
  },
  {
   "cell_type": "code",
   "execution_count": 4,
   "id": "fb43c60f-349c-4a16-884c-a7f23f05b315",
   "metadata": {},
   "outputs": [
    {
     "name": "stdout",
     "output_type": "stream",
     "text": [
      "-60%\n"
     ]
    }
   ],
   "source": [
    "rabatt_ = []\n",
    "for rab in soup.findAll(class_ = \"discount_pct\"):\n",
    "    rabatt_.append(rab.text)\n",
    "rabatt =rabatt_[0]\n",
    "print(rabatt)"
   ]
  },
  {
   "cell_type": "code",
   "execution_count": 10,
   "id": "c8a66fe5-df81-4ed5-b17f-f166e742e1cd",
   "metadata": {},
   "outputs": [
    {
     "name": "stdout",
     "output_type": "stream",
     "text": [
      "69,99\n"
     ]
    }
   ],
   "source": [
    "ordPris_ = []\n",
    "discount = []\n",
    "for dis in soup.findAll(class_ = \"discount_original_price\"):\n",
    "    priser = (dis.text.strip().split(\"€\"))\n",
    "    ordPris_.append(priser[0])\n",
    "    discount.append(priser[1])\n",
    "ordPris =ordPris_[0]\n",
    "print(ordPris)"
   ]
  },
  {
   "cell_type": "code",
   "execution_count": 12,
   "id": "16b7ca05-524b-4906-874c-a6dbf9c09150",
   "metadata": {},
   "outputs": [
    {
     "data": {
      "text/plain": [
       "0"
      ]
     },
     "execution_count": 12,
     "metadata": {},
     "output_type": "execute_result"
    }
   ],
   "source": [
    "#Alla reviews\n",
    "Rating = []\n",
    "Rating_ = \"\"\n",
    "RatingOutput = 0\n",
    "for row in soup.findAll(class_ = \"game_review_summary\"):\n",
    "    Rating.append(row.text)\n",
    "#Rating_ = Review[1]\n",
    "if Rating_ == \"Overhwelmingly Positive\":\n",
    "    RatingOutput = 8\n",
    "if Rating_ == \"Very Positive\":\n",
    "    RatingOutput = 7\n",
    "if Rating_== \"Positive\":\n",
    "    RatingOutput = 6\n",
    "if Rating_== \"Mostly Positive\":\n",
    "    RatingOutput = 5\n",
    "if Rating_ == \"Mixed\":\n",
    "    RatingOutput = 4\n",
    "if Rating_ == \"Mostly Negative\":\n",
    "    RatingOutput = 3\n",
    "if Rating_ == \"Negative\":\n",
    "    RatingOutput = 2\n",
    "if Rating_ == \"Very Negative\":\n",
    "    RatingOutput = 1\n",
    "if Rating_ == \"Overwhelmingly Negative\":\n",
    "    RatingOutput = 0 \n",
    "\n",
    "RatingOutput "
   ]
  },
  {
   "cell_type": "code",
   "execution_count": 16,
   "id": "90241457-0d42-4cf7-aa5c-ee91efac6550",
   "metadata": {},
   "outputs": [
    {
     "data": {
      "text/plain": [
       "'2022'"
      ]
     },
     "execution_count": 16,
     "metadata": {},
     "output_type": "execute_result"
    }
   ],
   "source": [
    "UtgDatum = []\n",
    "\n",
    "for row in soup.findAll(class_ = \"date\"):\n",
    "    UtgDatum.append(row.text)\n",
    "UtgAr = UtgDatum[0]\n",
    "UtgAr_Output = UtgAr[len(UtgAr) - 4: ]\n",
    "UtgAr_Output"
   ]
  },
  {
   "cell_type": "code",
   "execution_count": 17,
   "id": "f91fc113-3e8b-449a-9b33-6519401f677e",
   "metadata": {},
   "outputs": [
    {
     "data": {
      "text/plain": [
       "[]"
      ]
     },
     "execution_count": 17,
     "metadata": {},
     "output_type": "execute_result"
    }
   ],
   "source": [
    "OS_0 = []\n",
    "OS_alfa = []\n",
    "OS_beta = []\n",
    "for i in soup.findAll(class_ = \"sysreq_tab\"):\n",
    "    OS_0.append(i.text)\n",
    "counter = 0\n",
    "for j in OS_0:\n",
    "    \n",
    "    OS_alfa = j.replace(\"\\t\",\"\").replace(\"\\r\",\"\").replace(\"\\n\",\"\")\n",
    "    OS_beta.append(OS_alfa)\n",
    "\n",
    "\n",
    "\n",
    "OS_beta"
   ]
  },
  {
   "cell_type": "code",
   "execution_count": 19,
   "id": "621fe4ad-5d37-47ff-9c14-0985e8035700",
   "metadata": {},
   "outputs": [
    {
     "name": "stdout",
     "output_type": "stream",
     "text": [
      "Empty DataFrame\n",
      "Columns: [Spelnamn, Rating 1-8, Rabatt, Original Pris, Utgivnings år, OS]\n",
      "Index: []\n"
     ]
    },
    {
     "data": {
      "text/plain": [
       "[]"
      ]
     },
     "execution_count": 19,
     "metadata": {},
     "output_type": "execute_result"
    }
   ],
   "source": [
    "data = {\n",
    "    \"Spelnamn\": spelnamn[0],\n",
    "    \"Rating 1-8\": RatingOutput,\n",
    "    \"Rabatt\": rabatt,\n",
    "    \"Original Pris\": ordPris,\n",
    "    \"Utgivnings år\": UtgAr_Output,\n",
    "    \"OS\": OS_beta\n",
    "    \n",
    "    \n",
    "}\n",
    "\n",
    "df = pd.DataFrame(data)\n",
    "\n",
    "print(df) \n",
    "\n",
    "spelnamn[0]\n",
    "RatingOutput\n",
    "rabatt\n",
    "ordPris\n",
    "UtgAr_Output\n",
    "OS_beta"
   ]
  },
  {
   "cell_type": "code",
   "execution_count": null,
   "id": "98c94893-ebbd-4986-a44a-5490e21e0d79",
   "metadata": {},
   "outputs": [],
   "source": []
  }
 ],
 "metadata": {
  "kernelspec": {
   "display_name": "Python 3 (ipykernel)",
   "language": "python",
   "name": "python3"
  },
  "language_info": {
   "codemirror_mode": {
    "name": "ipython",
    "version": 3
   },
   "file_extension": ".py",
   "mimetype": "text/x-python",
   "name": "python",
   "nbconvert_exporter": "python",
   "pygments_lexer": "ipython3",
   "version": "3.9.13"
  }
 },
 "nbformat": 4,
 "nbformat_minor": 5
}
